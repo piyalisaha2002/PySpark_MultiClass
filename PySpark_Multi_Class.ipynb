{
  "nbformat": 4,
  "nbformat_minor": 0,
  "metadata": {
    "colab": {
      "provenance": []
    },
    "kernelspec": {
      "name": "python3",
      "display_name": "Python 3"
    },
    "language_info": {
      "name": "python"
    },
    "accelerator": "GPU",
    "gpuClass": "standard"
  },
  "cells": [
    {
      "cell_type": "markdown",
      "source": [
        "To Load Dataset from Kaggle API Run below steps"
      ],
      "metadata": {
        "id": "poN4vfP3KatX"
      }
    },
    {
      "cell_type": "code",
      "execution_count": null,
      "metadata": {
        "id": "V3gSgK0kUr0N"
      },
      "outputs": [],
      "source": [
        "! pip install -q kaggle"
      ]
    },
    {
      "cell_type": "code",
      "source": [
        "from google.colab import files\n",
        "\n",
        "files.upload()"
      ],
      "metadata": {
        "id": "3PoVxTW3Zxrd"
      },
      "execution_count": null,
      "outputs": []
    },
    {
      "cell_type": "code",
      "source": [
        "! mkdir ~/.kaggle\n",
        "\n",
        "! cp kaggle.json ~/.kaggle/"
      ],
      "metadata": {
        "id": "JrGY5KQoLqjH"
      },
      "execution_count": null,
      "outputs": []
    },
    {
      "cell_type": "code",
      "source": [
        " ! chmod 600 ~/.kaggle/kaggle.json"
      ],
      "metadata": {
        "id": "TUQUSkXULs1w"
      },
      "execution_count": null,
      "outputs": []
    },
    {
      "cell_type": "code",
      "source": [
        "! kaggle datasets download -d gpiosenka/100-bird-species"
      ],
      "metadata": {
        "colab": {
          "base_uri": "https://localhost:8080/"
        },
        "id": "Wh6z2UbmLxTG",
        "outputId": "21435cbc-d628-4d10-8721-6b8f854fc424"
      },
      "execution_count": null,
      "outputs": [
        {
          "output_type": "stream",
          "name": "stdout",
          "text": [
            "Downloading 100-bird-species.zip to /content\n",
            "100% 1.89G/1.89G [01:29<00:00, 24.2MB/s]\n",
            "100% 1.89G/1.89G [01:29<00:00, 22.7MB/s]\n"
          ]
        }
      ]
    },
    {
      "cell_type": "code",
      "source": [
        "!unzip 100-bird-species.zip"
      ],
      "metadata": {
        "id": "TObuA6-hM46Y"
      },
      "execution_count": null,
      "outputs": []
    },
    {
      "cell_type": "code",
      "source": [
        "data.printSchema()\n"
      ],
      "metadata": {
        "colab": {
          "base_uri": "https://localhost:8080/"
        },
        "id": "cSIgyPGY-Vat",
        "outputId": "187fe31a-9477-45d5-ecd9-cfab63e7bf62"
      },
      "execution_count": null,
      "outputs": [
        {
          "output_type": "stream",
          "name": "stdout",
          "text": [
            "root\n",
            " |-- image: struct (nullable = true)\n",
            " |    |-- origin: string (nullable = true)\n",
            " |    |-- height: integer (nullable = true)\n",
            " |    |-- width: integer (nullable = true)\n",
            " |    |-- nChannels: integer (nullable = true)\n",
            " |    |-- mode: integer (nullable = true)\n",
            " |    |-- data: binary (nullable = true)\n",
            " |-- label: string (nullable = true)\n",
            "\n"
          ]
        }
      ]
    },
    {
      "cell_type": "code",
      "source": [
        "#############################"
      ],
      "metadata": {
        "id": "n7fweWbPgc9l"
      },
      "execution_count": null,
      "outputs": []
    },
    {
      "cell_type": "markdown",
      "source": [
        "Loading Dataset from Drive"
      ],
      "metadata": {
        "id": "QthaTivoKSBn"
      }
    },
    {
      "cell_type": "code",
      "source": [
        "pip install pyspark\n",
        "#installing Pyspark"
      ],
      "metadata": {
        "colab": {
          "base_uri": "https://localhost:8080/"
        },
        "id": "NtFri0nhrrx_",
        "outputId": "72cbbb31-53dd-4670-b2f1-1a33eabd4000"
      },
      "execution_count": null,
      "outputs": [
        {
          "output_type": "stream",
          "name": "stdout",
          "text": [
            "Looking in indexes: https://pypi.org/simple, https://us-python.pkg.dev/colab-wheels/public/simple/\n",
            "Requirement already satisfied: pyspark in /usr/local/lib/python3.9/dist-packages (3.3.2)\n",
            "Requirement already satisfied: py4j==0.10.9.5 in /usr/local/lib/python3.9/dist-packages (from pyspark) (0.10.9.5)\n"
          ]
        }
      ]
    },
    {
      "cell_type": "code",
      "source": [
        "from pyspark.sql.functions import input_file_name, udf, StringType, col\n",
        "from pyspark import SparkContext, SparkConf\n",
        "from pyspark.sql import SparkSession\n",
        "from pyspark.ml.feature import StringIndexer, VectorAssembler, StandardScaler, PCA\n",
        "from pyspark.ml.linalg import VectorUDT, Vectors\n",
        "from pyspark.ml.classification import LogisticRegression, RandomForestClassifier\n",
        "from pyspark.ml.evaluation import MulticlassClassificationEvaluator\n",
        "\n",
        "\n",
        "\n",
        "#initializing Spark\n",
        "conf = SparkConf().setAppName(\"birdy\").set(\"spark.driver.memory\", \"8g\")\n",
        "sc = SparkContext(conf=conf)\n",
        "spark = SparkSession.builder.appName(\"birdy\").getOrCreate()\n",
        "\n",
        "\n",
        "# Set the path to the directory containing the subdirectories\n",
        "path = \"/content/drive/MyDrive/train\"\n",
        "\n",
        "# Read images and create DataFrame\n",
        "data = spark.read.format(\"image\").option(\"recursiveFileLookup\", \"true\").load(path)\n",
        "\n",
        "# Extract label from path\n",
        "get_label = udf(lambda x: x.split('/')[-2], StringType())\n",
        "data = data.withColumn(\"label\", get_label(input_file_name()))\n",
        "\n",
        "# Select only the image and label columns\n",
        "data = data.select(\"image\", \"label\")\n",
        "\n",
        "# Show the DataFrame\n",
        "data.printSchema()"
      ],
      "metadata": {
        "colab": {
          "base_uri": "https://localhost:8080/"
        },
        "id": "-0PERvK7kaB8",
        "outputId": "383e7657-6073-4287-bd9e-4c24ade8173a"
      },
      "execution_count": null,
      "outputs": [
        {
          "output_type": "stream",
          "name": "stdout",
          "text": [
            "root\n",
            " |-- image: struct (nullable = true)\n",
            " |    |-- origin: string (nullable = true)\n",
            " |    |-- height: integer (nullable = true)\n",
            " |    |-- width: integer (nullable = true)\n",
            " |    |-- nChannels: integer (nullable = true)\n",
            " |    |-- mode: integer (nullable = true)\n",
            " |    |-- data: binary (nullable = true)\n",
            " |-- label: string (nullable = true)\n",
            "\n"
          ]
        }
      ]
    },
    {
      "cell_type": "code",
      "source": [
        "data.show()"
      ],
      "metadata": {
        "colab": {
          "base_uri": "https://localhost:8080/"
        },
        "id": "p_lBvjpX5nLR",
        "outputId": "b8c3e93d-5c5e-43ec-ccf7-613d8d70df97"
      },
      "execution_count": null,
      "outputs": [
        {
          "output_type": "stream",
          "name": "stdout",
          "text": [
            "+--------------------+--------------------+\n",
            "|               image|               label|\n",
            "+--------------------+--------------------+\n",
            "|{file:///content/...|ABYSSINIAN_GROUND...|\n",
            "|{file:///content/...|ABYSSINIAN_GROUND...|\n",
            "|{file:///content/...|AFRICAN_CROWNED_C...|\n",
            "|{file:///content/...|       ABBOTTS_BOOBY|\n",
            "|{file:///content/...|AFRICAN_CROWNED_C...|\n",
            "|{file:///content/...|AFRICAN_CROWNED_C...|\n",
            "|{file:///content/...|ABYSSINIAN_GROUND...|\n",
            "|{file:///content/...|AFRICAN_CROWNED_C...|\n",
            "|{file:///content/...|ABYSSINIAN_GROUND...|\n",
            "|{file:///content/...|AFRICAN_CROWNED_C...|\n",
            "|{file:///content/...|ABYSSINIAN_GROUND...|\n",
            "|{file:///content/...|       ABBOTTS_BOOBY|\n",
            "|{file:///content/...|AFRICAN_CROWNED_C...|\n",
            "|{file:///content/...|AFRICAN_CROWNED_C...|\n",
            "|{file:///content/...|       ABBOTTS_BOOBY|\n",
            "|{file:///content/...|ABYSSINIAN_GROUND...|\n",
            "|{file:///content/...|ABYSSINIAN_GROUND...|\n",
            "|{file:///content/...|ABYSSINIAN_GROUND...|\n",
            "|{file:///content/...|AFRICAN_CROWNED_C...|\n",
            "|{file:///content/...|AFRICAN_CROWNED_C...|\n",
            "+--------------------+--------------------+\n",
            "only showing top 20 rows\n",
            "\n"
          ]
        }
      ]
    },
    {
      "cell_type": "code",
      "source": [
        "# Convert label column to numeric\n",
        "labelIndexer = StringIndexer(inputCol=\"label\", outputCol=\"label_index\").fit(data)\n",
        "data = labelIndexer.transform(data)"
      ],
      "metadata": {
        "id": "-rM1PTBqkhGZ"
      },
      "execution_count": null,
      "outputs": []
    },
    {
      "cell_type": "code",
      "source": [
        "data1=data"
      ],
      "metadata": {
        "id": "iB1ozTS8k_H9"
      },
      "execution_count": null,
      "outputs": []
    },
    {
      "cell_type": "code",
      "source": [
        "data2=data1.select('image','label_index')"
      ],
      "metadata": {
        "id": "fcqmqu6w54sV"
      },
      "execution_count": null,
      "outputs": []
    },
    {
      "cell_type": "code",
      "source": [
        "data2=data2.withColumnRenamed(\"label_index\",\"label\")\n",
        "#renaming label_index to label"
      ],
      "metadata": {
        "id": "MgJS7SxgczMh"
      },
      "execution_count": null,
      "outputs": []
    },
    {
      "cell_type": "code",
      "source": [
        "data2.show()"
      ],
      "metadata": {
        "colab": {
          "base_uri": "https://localhost:8080/"
        },
        "id": "kcNECDKn6De6",
        "outputId": "b93a0891-3957-45d4-a575-56c978003b89"
      },
      "execution_count": null,
      "outputs": [
        {
          "output_type": "stream",
          "name": "stdout",
          "text": [
            "+--------------------+-----+\n",
            "|               image|label|\n",
            "+--------------------+-----+\n",
            "|{file:///content/...|  1.0|\n",
            "|{file:///content/...|  1.0|\n",
            "|{file:///content/...|  4.0|\n",
            "|{file:///content/...|  0.0|\n",
            "|{file:///content/...|  4.0|\n",
            "|{file:///content/...|  4.0|\n",
            "|{file:///content/...|  1.0|\n",
            "|{file:///content/...|  4.0|\n",
            "|{file:///content/...|  1.0|\n",
            "|{file:///content/...|  4.0|\n",
            "|{file:///content/...|  1.0|\n",
            "|{file:///content/...|  0.0|\n",
            "|{file:///content/...|  4.0|\n",
            "|{file:///content/...|  4.0|\n",
            "|{file:///content/...|  0.0|\n",
            "|{file:///content/...|  1.0|\n",
            "|{file:///content/...|  1.0|\n",
            "|{file:///content/...|  1.0|\n",
            "|{file:///content/...|  4.0|\n",
            "|{file:///content/...|  4.0|\n",
            "+--------------------+-----+\n",
            "only showing top 20 rows\n",
            "\n"
          ]
        }
      ]
    },
    {
      "cell_type": "code",
      "source": [
        "data3=data2.select(\"image.origin\",'image.data', \"image.height\", \"image.width\", \"image.mode\", \"image.nChannels\",'label')"
      ],
      "metadata": {
        "id": "NjJrTBnQcgGI"
      },
      "execution_count": null,
      "outputs": []
    },
    {
      "cell_type": "code",
      "source": [
        "data3.show()"
      ],
      "metadata": {
        "colab": {
          "base_uri": "https://localhost:8080/"
        },
        "id": "u906ZRzOebRA",
        "outputId": "6289e3a5-2d73-4160-c3ea-f51ef5b6b175"
      },
      "execution_count": null,
      "outputs": [
        {
          "output_type": "stream",
          "name": "stdout",
          "text": [
            "+--------------------+--------------------+------+-----+----+---------+-----+\n",
            "|              origin|                data|height|width|mode|nChannels|label|\n",
            "+--------------------+--------------------+------+-----+----+---------+-----+\n",
            "|file:///content/d...|[80 B9 BB 6A A1 A...|   224|  224|  16|        3|  1.0|\n",
            "|file:///content/d...|[1E C6 B5 16 B8 A...|   224|  224|  16|        3|  1.0|\n",
            "|file:///content/d...|[72 A8 9B 39 6B 5...|   224|  224|  16|        3|  4.0|\n",
            "|file:///content/d...|[55 78 8C 3D 5B 6...|   224|  224|  16|        3|  0.0|\n",
            "|file:///content/d...|[6B BC 8D 65 BB 8...|   224|  224|  16|        3|  4.0|\n",
            "|file:///content/d...|[4B 8A 7A 19 5B 4...|   224|  224|  16|        3|  4.0|\n",
            "|file:///content/d...|[3E 5A 5A 00 18 1...|   224|  224|  16|        3|  1.0|\n",
            "|file:///content/d...|[30 B0 93 52 C9 B...|   224|  224|  16|        3|  4.0|\n",
            "|file:///content/d...|[64 A3 AB 72 B0 B...|   224|  224|  16|        3|  1.0|\n",
            "|file:///content/d...|[21 44 29 1D 44 2...|   224|  224|  16|        3|  4.0|\n",
            "|file:///content/d...|[2F 60 5E 10 43 3...|   224|  224|  16|        3|  1.0|\n",
            "|file:///content/d...|[2A 52 5E 2E 55 5...|   224|  224|  16|        3|  0.0|\n",
            "|file:///content/d...|[5D 79 80 B7 D4 D...|   224|  224|  16|        3|  4.0|\n",
            "|file:///content/d...|[DE E0 9A A2 A4 5...|   224|  224|  16|        3|  4.0|\n",
            "|file:///content/d...|[18 20 20 1D 25 2...|   224|  224|  16|        3|  0.0|\n",
            "|file:///content/d...|[83 A4 B8 88 A9 B...|   224|  224|  16|        3|  1.0|\n",
            "|file:///content/d...|[7D B2 9E 7E B4 9...|   224|  224|  16|        3|  1.0|\n",
            "|file:///content/d...|[8F B0 CA 9E C0 D...|   224|  224|  16|        3|  1.0|\n",
            "|file:///content/d...|[42 9C 78 7F D6 B...|   224|  224|  16|        3|  4.0|\n",
            "|file:///content/d...|[67 97 91 50 7D 7...|   224|  224|  16|        3|  4.0|\n",
            "+--------------------+--------------------+------+-----+----+---------+-----+\n",
            "only showing top 20 rows\n",
            "\n"
          ]
        }
      ]
    },
    {
      "cell_type": "code",
      "source": [
        "#converting the binary values of data to vector\n",
        "binary_to_vector_udf = udf(lambda x: Vectors.dense(list(x)), VectorUDT())\n",
        "\n",
        "# apply the UDF to the \"data\" column and create a new column \"features\"\n",
        "data6 = data3.withColumn(\"features\", binary_to_vector_udf(\"data\"))"
      ],
      "metadata": {
        "id": "ysynkZWp9A0F"
      },
      "execution_count": null,
      "outputs": []
    },
    {
      "cell_type": "code",
      "source": [
        "data6.show()"
      ],
      "metadata": {
        "colab": {
          "base_uri": "https://localhost:8080/"
        },
        "id": "ySdQtf_S9_yW",
        "outputId": "4c983401-1c5c-4d40-d08b-7fd747d09e24"
      },
      "execution_count": null,
      "outputs": [
        {
          "output_type": "stream",
          "name": "stdout",
          "text": [
            "+--------------------+--------------------+------+-----+----+---------+-----+--------------------+\n",
            "|              origin|                data|height|width|mode|nChannels|label|            features|\n",
            "+--------------------+--------------------+------+-----+----+---------+-----+--------------------+\n",
            "|file:///content/d...|[80 B9 BB 6A A1 A...|   224|  224|  16|        3|  1.0|[128.0,185.0,187....|\n",
            "|file:///content/d...|[1E C6 B5 16 B8 A...|   224|  224|  16|        3|  1.0|[30.0,198.0,181.0...|\n",
            "|file:///content/d...|[72 A8 9B 39 6B 5...|   224|  224|  16|        3|  4.0|[114.0,168.0,155....|\n",
            "|file:///content/d...|[55 78 8C 3D 5B 6...|   224|  224|  16|        3|  0.0|[85.0,120.0,140.0...|\n",
            "|file:///content/d...|[6B BC 8D 65 BB 8...|   224|  224|  16|        3|  4.0|[107.0,188.0,141....|\n",
            "|file:///content/d...|[4B 8A 7A 19 5B 4...|   224|  224|  16|        3|  4.0|[75.0,138.0,122.0...|\n",
            "|file:///content/d...|[3E 5A 5A 00 18 1...|   224|  224|  16|        3|  1.0|[62.0,90.0,90.0,0...|\n",
            "|file:///content/d...|[30 B0 93 52 C9 B...|   224|  224|  16|        3|  4.0|[48.0,176.0,147.0...|\n",
            "|file:///content/d...|[64 A3 AB 72 B0 B...|   224|  224|  16|        3|  1.0|[100.0,163.0,171....|\n",
            "|file:///content/d...|[21 44 29 1D 44 2...|   224|  224|  16|        3|  4.0|[33.0,68.0,41.0,2...|\n",
            "|file:///content/d...|[2F 60 5E 10 43 3...|   224|  224|  16|        3|  1.0|[47.0,96.0,94.0,1...|\n",
            "|file:///content/d...|[2A 52 5E 2E 55 5...|   224|  224|  16|        3|  0.0|[42.0,82.0,94.0,4...|\n",
            "|file:///content/d...|[5D 79 80 B7 D4 D...|   224|  224|  16|        3|  4.0|[93.0,121.0,128.0...|\n",
            "|file:///content/d...|[DE E0 9A A2 A4 5...|   224|  224|  16|        3|  4.0|[222.0,224.0,154....|\n",
            "|file:///content/d...|[18 20 20 1D 25 2...|   224|  224|  16|        3|  0.0|[24.0,32.0,32.0,2...|\n",
            "|file:///content/d...|[83 A4 B8 88 A9 B...|   224|  224|  16|        3|  1.0|[131.0,164.0,184....|\n",
            "|file:///content/d...|[7D B2 9E 7E B4 9...|   224|  224|  16|        3|  1.0|[125.0,178.0,158....|\n",
            "|file:///content/d...|[8F B0 CA 9E C0 D...|   224|  224|  16|        3|  1.0|[143.0,176.0,202....|\n",
            "|file:///content/d...|[42 9C 78 7F D6 B...|   224|  224|  16|        3|  4.0|[66.0,156.0,120.0...|\n",
            "|file:///content/d...|[67 97 91 50 7D 7...|   224|  224|  16|        3|  4.0|[103.0,151.0,145....|\n",
            "+--------------------+--------------------+------+-----+----+---------+-----+--------------------+\n",
            "only showing top 20 rows\n",
            "\n"
          ]
        }
      ]
    },
    {
      "cell_type": "code",
      "source": [
        "data7=data6.select('features','label') #selecting only features and labels for training"
      ],
      "metadata": {
        "id": "sSzhvUp3GkiC"
      },
      "execution_count": null,
      "outputs": []
    },
    {
      "cell_type": "code",
      "source": [
        "(trainingData, testData) = data7.randomSplit([0.8, 0.2], seed=42) #splitting the data"
      ],
      "metadata": {
        "id": "qxBOx1OwNEZA"
      },
      "execution_count": null,
      "outputs": []
    },
    {
      "cell_type": "code",
      "source": [
        "lr = LogisticRegression(maxIter=20)\n",
        "model = lr.fit(trainingData) #fitting on Logisitic Regression Model"
      ],
      "metadata": {
        "id": "ru3h4R3Ns5sN"
      },
      "execution_count": null,
      "outputs": []
    },
    {
      "cell_type": "code",
      "source": [
        "predictions = model.transform(testData)\n",
        "#predictions on test data"
      ],
      "metadata": {
        "id": "t3SJBsPqEmU8"
      },
      "execution_count": null,
      "outputs": []
    },
    {
      "cell_type": "code",
      "source": [
        "predictions.show()"
      ],
      "metadata": {
        "colab": {
          "base_uri": "https://localhost:8080/"
        },
        "id": "jwnhrzJVFSxq",
        "outputId": "cc9f7d98-124f-4869-e16a-bae6c948fc5c"
      },
      "execution_count": null,
      "outputs": [
        {
          "output_type": "stream",
          "name": "stdout",
          "text": [
            "+--------------------+-----+--------------------+--------------------+----------+\n",
            "|            features|label|       rawPrediction|         probability|prediction|\n",
            "+--------------------+-----+--------------------+--------------------+----------+\n",
            "|[30.0,198.0,181.0...|  1.0|[-5.6046076044735...|[3.99438448725595...|       1.0|\n",
            "|[47.0,96.0,94.0,1...|  1.0|[-3.4988137171916...|[7.33351468638078...|       1.0|\n",
            "|[58.0,191.0,134.0...|  3.0|[-3.8939770817482...|[1.48794753564539...|       3.0|\n",
            "|[85.0,120.0,140.0...|  0.0|[5.98623830748267...|[0.98318515424168...|       0.0|\n",
            "|[108.0,192.0,163....|  1.0|[-3.5879717304167...|[6.64705276936777...|       1.0|\n",
            "|[121.0,121.0,135....|  4.0|[1.02928862746903...|[0.16640416930962...|       4.0|\n",
            "|[182.0,153.0,146....|  1.0|[-0.3442425176319...|[0.01795590517293...|       1.0|\n",
            "|[0.0,32.0,37.0,2....|  0.0|[4.11652349272566...|[0.97149653472456...|       0.0|\n",
            "|[39.0,52.0,38.0,3...|  4.0|[-1.4729411768151...|[4.29414691599960...|       4.0|\n",
            "|[43.0,78.0,51.0,3...|  1.0|[-1.0592884567979...|[0.00500314435709...|       1.0|\n",
            "|[69.0,61.0,62.0,7...|  4.0|[-1.1366336565958...|[9.10014770481930...|       4.0|\n",
            "|[79.0,205.0,199.0...|  3.0|[-3.1627804140453...|[3.43366959260677...|       3.0|\n",
            "|[101.0,148.0,175....|  1.0|[-4.1873009533569...|[5.16396386133632...|       1.0|\n",
            "|[3.0,92.0,76.0,78...|  1.0|[-5.5513817716852...|[1.44627969691409...|       1.0|\n",
            "|[35.0,177.0,130.0...|  3.0|[-3.1817729748943...|[0.00228752011631...|       3.0|\n",
            "|[49.0,53.0,58.0,5...|  4.0|[0.55497469047780...|[0.00439439414645...|       4.0|\n",
            "|[52.0,72.0,90.0,4...|  4.0|[0.49938318042284...|[0.00754086524714...|       4.0|\n",
            "|[58.0,49.0,45.0,5...|  4.0|[0.56905651241189...|[0.01603417104205...|       4.0|\n",
            "|[153.0,182.0,197....|  1.0|[-1.6768260166273...|[9.86216087172085...|       1.0|\n",
            "|[159.0,190.0,199....|  4.0|[1.75616214604563...|[0.47604919622529...|       0.0|\n",
            "+--------------------+-----+--------------------+--------------------+----------+\n",
            "only showing top 20 rows\n",
            "\n"
          ]
        }
      ]
    },
    {
      "cell_type": "code",
      "source": [
        "evaluator = MulticlassClassificationEvaluator(labelCol=\"label\", predictionCol=\"prediction\", metricName=\"accuracy\")\n",
        "accuracy = evaluator.evaluate(predictions)\n",
        "print(\"Accuracy = {}\".format(accuracy)) #accuracy of predictions"
      ],
      "metadata": {
        "colab": {
          "base_uri": "https://localhost:8080/"
        },
        "id": "PpY9WeFyFUvN",
        "outputId": "66ce6b0d-3c22-49f6-eb72-e331f1176712"
      },
      "execution_count": null,
      "outputs": [
        {
          "output_type": "stream",
          "name": "stdout",
          "text": [
            "Accuracy = 0.9299363057324841\n"
          ]
        }
      ]
    },
    {
      "cell_type": "code",
      "source": [
        "#Random Forest implementation for the Same \n",
        "scaler = StandardScaler(inputCol=\"features\", outputCol=\"scaled_feature_vector\")\n",
        "scaled_df = scaler.fit(data7).transform(data7)\n",
        "\n",
        "# Perform PCA on the feature vector\n",
        "pca = PCA(k=50, inputCol=\"scaled_feature_vector\", outputCol=\"pca_features\")\n",
        "pca_model = pca.fit(scaled_df)\n",
        "pca_df = pca_model.transform(scaled_df)\n",
        "\n",
        "# Split the dataset into training and test sets\n",
        "(training_data, test_data) = pca_df.randomSplit([0.8, 0.2])\n",
        "\n",
        "# Define the classification model\n",
        "classifier = RandomForestClassifier(labelCol=\"label\", featuresCol=\"pca_features\", numTrees=10)\n",
        "\n",
        "# Fit the model on the training data\n",
        "model = classifier.fit(training_data)\n",
        "\n",
        "# Make predictions on the test data\n",
        "predictions = model.transform(test_data)\n",
        "\n",
        "# Evaluate the model\n",
        "evaluator = MulticlassClassificationEvaluator(labelCol=\"labelIndex\", predictionCol=\"prediction\", metricName=\"accuracy\")\n",
        "accuracy = evaluator.evaluate(predictions)\n",
        "print(\"Accuracy = {}\".format(accuracy))"
      ],
      "metadata": {
        "id": "dhFzucqA-g9f"
      },
      "execution_count": null,
      "outputs": []
    }
  ]
}